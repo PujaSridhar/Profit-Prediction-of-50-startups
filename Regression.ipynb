{
  "nbformat": 4,
  "nbformat_minor": 0,
  "metadata": {
    "colab": {
      "provenance": [],
      "collapsed_sections": [],
      "authorship_tag": "ABX9TyMXUw+k/C41+uTszXwVFoiT",
      "include_colab_link": true
    },
    "kernelspec": {
      "name": "python3",
      "display_name": "Python 3"
    },
    "language_info": {
      "name": "python"
    }
  },
  "cells": [
    {
      "cell_type": "markdown",
      "metadata": {
        "id": "view-in-github",
        "colab_type": "text"
      },
      "source": [
        "<a href=\"https://colab.research.google.com/github/PujaSridhar/Profit-Prediction-of-50-startups/blob/main/Regression.ipynb\" target=\"_parent\"><img src=\"https://colab.research.google.com/assets/colab-badge.svg\" alt=\"Open In Colab\"/></a>"
      ]
    },
    {
      "cell_type": "code",
      "execution_count": null,
      "metadata": {
        "id": "4UrHVIla5cWB"
      },
      "outputs": [],
      "source": [
        "import pandas as pd\n",
        "import numpy as np"
      ]
    },
    {
      "cell_type": "code",
      "source": [
        "#Reading the data \n",
        "data=pd.read_csv(\"/content/50_Startups.csv\")\n",
        "X = data.iloc[:,:-1].values\n",
        "y = data.iloc[:,3].values\n",
        "#y1=y.reshape(-1,1)\n",
        "print(X)\n",
        "print(y)"
      ],
      "metadata": {
        "colab": {
          "base_uri": "https://localhost:8080/"
        },
        "id": "kUzcXFtj682F",
        "outputId": "6da0ba42-0cd8-402b-cc15-06f2d4860c1b"
      },
      "execution_count": null,
      "outputs": [
        {
          "output_type": "stream",
          "name": "stdout",
          "text": [
            "[[165349.2  136897.8  471784.1 ]\n",
            " [162597.7  151377.59 443898.53]\n",
            " [153441.51 101145.55 407934.54]\n",
            " [144372.41 118671.85 383199.62]\n",
            " [142107.34  91391.77 366168.42]\n",
            " [131876.9   99814.71 362861.36]\n",
            " [134615.46 147198.87 127716.82]\n",
            " [130298.13 145530.06 323876.68]\n",
            " [120542.52 148718.95 311613.29]\n",
            " [123334.88 108679.17 304981.62]\n",
            " [101913.08 110594.11 229160.95]\n",
            " [100671.96  91790.61 249744.55]\n",
            " [ 93863.75 127320.38 249839.44]\n",
            " [ 91992.39 135495.07 252664.93]\n",
            " [119943.24 156547.42 256512.92]\n",
            " [114523.61 122616.84 261776.23]\n",
            " [ 78013.11 121597.55 264346.06]\n",
            " [ 94657.16 145077.58 282574.31]\n",
            " [ 91749.16 114175.79 294919.57]\n",
            " [ 86419.7  153514.11      0.  ]\n",
            " [ 76253.86 113867.3  298664.47]\n",
            " [ 78389.47 153773.43 299737.29]\n",
            " [ 73994.56 122782.75 303319.26]\n",
            " [ 67532.53 105751.03 304768.73]\n",
            " [ 77044.01  99281.34 140574.81]\n",
            " [ 64664.71 139553.16 137962.62]\n",
            " [ 75328.87 144135.98 134050.07]\n",
            " [ 72107.6  127864.55 353183.81]\n",
            " [ 66051.52 182645.56 118148.2 ]\n",
            " [ 65605.48 153032.06 107138.38]\n",
            " [ 61994.48 115641.28  91131.24]\n",
            " [ 61136.38 152701.92  88218.23]\n",
            " [ 63408.86 129219.61  46085.25]\n",
            " [ 55493.95 103057.49 214634.81]\n",
            " [ 46426.07 157693.92 210797.67]\n",
            " [ 46014.02  85047.44 205517.64]\n",
            " [ 28663.76 127056.21 201126.82]\n",
            " [ 44069.95  51283.14 197029.42]\n",
            " [ 20229.59  65947.93 185265.1 ]\n",
            " [ 38558.51  82982.09 174999.3 ]\n",
            " [ 28754.33 118546.05 172795.67]\n",
            " [ 27892.92  84710.77 164470.71]\n",
            " [ 23640.93  96189.63 148001.11]\n",
            " [ 15505.73 127382.3   35534.17]\n",
            " [ 22177.74 154806.14  28334.72]\n",
            " [  1000.23 124153.04   1903.93]\n",
            " [  1315.46 115816.21 297114.46]\n",
            " [     0.   135426.92      0.  ]\n",
            " [   542.05  51743.15      0.  ]\n",
            " [     0.   116983.8   45173.06]]\n",
            "[192261.83 191792.06 191050.39 182901.99 166187.94 156991.12 156122.51\n",
            " 155752.6  152211.77 149759.96 146121.95 144259.4  141585.52 134307.35\n",
            " 132602.65 129917.04 126992.93 125370.37 124266.9  122776.86 118474.03\n",
            " 111313.02 110352.25 108733.99 108552.04 107404.34 105733.54 105008.31\n",
            " 103282.38 101004.64  99937.59  97483.56  97427.84  96778.92  96712.8\n",
            "  96479.51  90708.19  89949.14  81229.06  81005.76  78239.91  77798.83\n",
            "  71498.49  69758.98  65200.33  64926.08  49490.75  42559.73  35673.41\n",
            "  14681.4 ]\n"
          ]
        }
      ]
    },
    {
      "cell_type": "code",
      "source": [
        "data.info()"
      ],
      "metadata": {
        "colab": {
          "base_uri": "https://localhost:8080/"
        },
        "id": "_UuGDB8R8ojW",
        "outputId": "4c5146f9-f0d5-4eac-834b-921509303777"
      },
      "execution_count": null,
      "outputs": [
        {
          "output_type": "stream",
          "name": "stdout",
          "text": [
            "<class 'pandas.core.frame.DataFrame'>\n",
            "RangeIndex: 50 entries, 0 to 49\n",
            "Data columns (total 4 columns):\n",
            " #   Column           Non-Null Count  Dtype  \n",
            "---  ------           --------------  -----  \n",
            " 0   R&D Spend        50 non-null     float64\n",
            " 1   Administration   50 non-null     float64\n",
            " 2   Marketing Spend  50 non-null     float64\n",
            " 3   Profit           50 non-null     float64\n",
            "dtypes: float64(4)\n",
            "memory usage: 1.7 KB\n"
          ]
        }
      ]
    },
    {
      "cell_type": "code",
      "source": [
        "data[data.duplicated()]"
      ],
      "metadata": {
        "colab": {
          "base_uri": "https://localhost:8080/",
          "height": 49
        },
        "id": "i6fD5Lpm9BwX",
        "outputId": "8b69fac5-d6d0-4474-9404-e5d6c4836d93"
      },
      "execution_count": null,
      "outputs": [
        {
          "output_type": "execute_result",
          "data": {
            "text/plain": [
              "Empty DataFrame\n",
              "Columns: [R&D Spend, Administration, Marketing Spend, Profit]\n",
              "Index: []"
            ],
            "text/html": [
              "\n",
              "  <div id=\"df-60732bdf-7a1e-4e94-884a-239e259341ad\">\n",
              "    <div class=\"colab-df-container\">\n",
              "      <div>\n",
              "<style scoped>\n",
              "    .dataframe tbody tr th:only-of-type {\n",
              "        vertical-align: middle;\n",
              "    }\n",
              "\n",
              "    .dataframe tbody tr th {\n",
              "        vertical-align: top;\n",
              "    }\n",
              "\n",
              "    .dataframe thead th {\n",
              "        text-align: right;\n",
              "    }\n",
              "</style>\n",
              "<table border=\"1\" class=\"dataframe\">\n",
              "  <thead>\n",
              "    <tr style=\"text-align: right;\">\n",
              "      <th></th>\n",
              "      <th>R&amp;D Spend</th>\n",
              "      <th>Administration</th>\n",
              "      <th>Marketing Spend</th>\n",
              "      <th>Profit</th>\n",
              "    </tr>\n",
              "  </thead>\n",
              "  <tbody>\n",
              "  </tbody>\n",
              "</table>\n",
              "</div>\n",
              "      <button class=\"colab-df-convert\" onclick=\"convertToInteractive('df-60732bdf-7a1e-4e94-884a-239e259341ad')\"\n",
              "              title=\"Convert this dataframe to an interactive table.\"\n",
              "              style=\"display:none;\">\n",
              "        \n",
              "  <svg xmlns=\"http://www.w3.org/2000/svg\" height=\"24px\"viewBox=\"0 0 24 24\"\n",
              "       width=\"24px\">\n",
              "    <path d=\"M0 0h24v24H0V0z\" fill=\"none\"/>\n",
              "    <path d=\"M18.56 5.44l.94 2.06.94-2.06 2.06-.94-2.06-.94-.94-2.06-.94 2.06-2.06.94zm-11 1L8.5 8.5l.94-2.06 2.06-.94-2.06-.94L8.5 2.5l-.94 2.06-2.06.94zm10 10l.94 2.06.94-2.06 2.06-.94-2.06-.94-.94-2.06-.94 2.06-2.06.94z\"/><path d=\"M17.41 7.96l-1.37-1.37c-.4-.4-.92-.59-1.43-.59-.52 0-1.04.2-1.43.59L10.3 9.45l-7.72 7.72c-.78.78-.78 2.05 0 2.83L4 21.41c.39.39.9.59 1.41.59.51 0 1.02-.2 1.41-.59l7.78-7.78 2.81-2.81c.8-.78.8-2.07 0-2.86zM5.41 20L4 18.59l7.72-7.72 1.47 1.35L5.41 20z\"/>\n",
              "  </svg>\n",
              "      </button>\n",
              "      \n",
              "  <style>\n",
              "    .colab-df-container {\n",
              "      display:flex;\n",
              "      flex-wrap:wrap;\n",
              "      gap: 12px;\n",
              "    }\n",
              "\n",
              "    .colab-df-convert {\n",
              "      background-color: #E8F0FE;\n",
              "      border: none;\n",
              "      border-radius: 50%;\n",
              "      cursor: pointer;\n",
              "      display: none;\n",
              "      fill: #1967D2;\n",
              "      height: 32px;\n",
              "      padding: 0 0 0 0;\n",
              "      width: 32px;\n",
              "    }\n",
              "\n",
              "    .colab-df-convert:hover {\n",
              "      background-color: #E2EBFA;\n",
              "      box-shadow: 0px 1px 2px rgba(60, 64, 67, 0.3), 0px 1px 3px 1px rgba(60, 64, 67, 0.15);\n",
              "      fill: #174EA6;\n",
              "    }\n",
              "\n",
              "    [theme=dark] .colab-df-convert {\n",
              "      background-color: #3B4455;\n",
              "      fill: #D2E3FC;\n",
              "    }\n",
              "\n",
              "    [theme=dark] .colab-df-convert:hover {\n",
              "      background-color: #434B5C;\n",
              "      box-shadow: 0px 1px 3px 1px rgba(0, 0, 0, 0.15);\n",
              "      filter: drop-shadow(0px 1px 2px rgba(0, 0, 0, 0.3));\n",
              "      fill: #FFFFFF;\n",
              "    }\n",
              "  </style>\n",
              "\n",
              "      <script>\n",
              "        const buttonEl =\n",
              "          document.querySelector('#df-60732bdf-7a1e-4e94-884a-239e259341ad button.colab-df-convert');\n",
              "        buttonEl.style.display =\n",
              "          google.colab.kernel.accessAllowed ? 'block' : 'none';\n",
              "\n",
              "        async function convertToInteractive(key) {\n",
              "          const element = document.querySelector('#df-60732bdf-7a1e-4e94-884a-239e259341ad');\n",
              "          const dataTable =\n",
              "            await google.colab.kernel.invokeFunction('convertToInteractive',\n",
              "                                                     [key], {});\n",
              "          if (!dataTable) return;\n",
              "\n",
              "          const docLinkHtml = 'Like what you see? Visit the ' +\n",
              "            '<a target=\"_blank\" href=https://colab.research.google.com/notebooks/data_table.ipynb>data table notebook</a>'\n",
              "            + ' to learn more about interactive tables.';\n",
              "          element.innerHTML = '';\n",
              "          dataTable['output_type'] = 'display_data';\n",
              "          await google.colab.output.renderOutput(dataTable, element);\n",
              "          const docLink = document.createElement('div');\n",
              "          docLink.innerHTML = docLinkHtml;\n",
              "          element.appendChild(docLink);\n",
              "        }\n",
              "      </script>\n",
              "    </div>\n",
              "  </div>\n",
              "  "
            ]
          },
          "metadata": {},
          "execution_count": 4
        }
      ]
    },
    {
      "cell_type": "code",
      "source": [
        "data.describe()"
      ],
      "metadata": {
        "colab": {
          "base_uri": "https://localhost:8080/",
          "height": 300
        },
        "id": "cvQIHYuI9Nuf",
        "outputId": "0cf1f944-bbd1-4442-b91c-033828750854"
      },
      "execution_count": null,
      "outputs": [
        {
          "output_type": "execute_result",
          "data": {
            "text/plain": [
              "           R&D Spend  Administration  Marketing Spend         Profit\n",
              "count      50.000000       50.000000        50.000000      50.000000\n",
              "mean    73721.615600   121344.639600    211025.097800  112012.639200\n",
              "std     45902.256482    28017.802755    122290.310726   40306.180338\n",
              "min         0.000000    51283.140000         0.000000   14681.400000\n",
              "25%     39936.370000   103730.875000    129300.132500   90138.902500\n",
              "50%     73051.080000   122699.795000    212716.240000  107978.190000\n",
              "75%    101602.800000   144842.180000    299469.085000  139765.977500\n",
              "max    165349.200000   182645.560000    471784.100000  192261.830000"
            ],
            "text/html": [
              "\n",
              "  <div id=\"df-46b27b81-7471-412b-94af-3eb917126db5\">\n",
              "    <div class=\"colab-df-container\">\n",
              "      <div>\n",
              "<style scoped>\n",
              "    .dataframe tbody tr th:only-of-type {\n",
              "        vertical-align: middle;\n",
              "    }\n",
              "\n",
              "    .dataframe tbody tr th {\n",
              "        vertical-align: top;\n",
              "    }\n",
              "\n",
              "    .dataframe thead th {\n",
              "        text-align: right;\n",
              "    }\n",
              "</style>\n",
              "<table border=\"1\" class=\"dataframe\">\n",
              "  <thead>\n",
              "    <tr style=\"text-align: right;\">\n",
              "      <th></th>\n",
              "      <th>R&amp;D Spend</th>\n",
              "      <th>Administration</th>\n",
              "      <th>Marketing Spend</th>\n",
              "      <th>Profit</th>\n",
              "    </tr>\n",
              "  </thead>\n",
              "  <tbody>\n",
              "    <tr>\n",
              "      <th>count</th>\n",
              "      <td>50.000000</td>\n",
              "      <td>50.000000</td>\n",
              "      <td>50.000000</td>\n",
              "      <td>50.000000</td>\n",
              "    </tr>\n",
              "    <tr>\n",
              "      <th>mean</th>\n",
              "      <td>73721.615600</td>\n",
              "      <td>121344.639600</td>\n",
              "      <td>211025.097800</td>\n",
              "      <td>112012.639200</td>\n",
              "    </tr>\n",
              "    <tr>\n",
              "      <th>std</th>\n",
              "      <td>45902.256482</td>\n",
              "      <td>28017.802755</td>\n",
              "      <td>122290.310726</td>\n",
              "      <td>40306.180338</td>\n",
              "    </tr>\n",
              "    <tr>\n",
              "      <th>min</th>\n",
              "      <td>0.000000</td>\n",
              "      <td>51283.140000</td>\n",
              "      <td>0.000000</td>\n",
              "      <td>14681.400000</td>\n",
              "    </tr>\n",
              "    <tr>\n",
              "      <th>25%</th>\n",
              "      <td>39936.370000</td>\n",
              "      <td>103730.875000</td>\n",
              "      <td>129300.132500</td>\n",
              "      <td>90138.902500</td>\n",
              "    </tr>\n",
              "    <tr>\n",
              "      <th>50%</th>\n",
              "      <td>73051.080000</td>\n",
              "      <td>122699.795000</td>\n",
              "      <td>212716.240000</td>\n",
              "      <td>107978.190000</td>\n",
              "    </tr>\n",
              "    <tr>\n",
              "      <th>75%</th>\n",
              "      <td>101602.800000</td>\n",
              "      <td>144842.180000</td>\n",
              "      <td>299469.085000</td>\n",
              "      <td>139765.977500</td>\n",
              "    </tr>\n",
              "    <tr>\n",
              "      <th>max</th>\n",
              "      <td>165349.200000</td>\n",
              "      <td>182645.560000</td>\n",
              "      <td>471784.100000</td>\n",
              "      <td>192261.830000</td>\n",
              "    </tr>\n",
              "  </tbody>\n",
              "</table>\n",
              "</div>\n",
              "      <button class=\"colab-df-convert\" onclick=\"convertToInteractive('df-46b27b81-7471-412b-94af-3eb917126db5')\"\n",
              "              title=\"Convert this dataframe to an interactive table.\"\n",
              "              style=\"display:none;\">\n",
              "        \n",
              "  <svg xmlns=\"http://www.w3.org/2000/svg\" height=\"24px\"viewBox=\"0 0 24 24\"\n",
              "       width=\"24px\">\n",
              "    <path d=\"M0 0h24v24H0V0z\" fill=\"none\"/>\n",
              "    <path d=\"M18.56 5.44l.94 2.06.94-2.06 2.06-.94-2.06-.94-.94-2.06-.94 2.06-2.06.94zm-11 1L8.5 8.5l.94-2.06 2.06-.94-2.06-.94L8.5 2.5l-.94 2.06-2.06.94zm10 10l.94 2.06.94-2.06 2.06-.94-2.06-.94-.94-2.06-.94 2.06-2.06.94z\"/><path d=\"M17.41 7.96l-1.37-1.37c-.4-.4-.92-.59-1.43-.59-.52 0-1.04.2-1.43.59L10.3 9.45l-7.72 7.72c-.78.78-.78 2.05 0 2.83L4 21.41c.39.39.9.59 1.41.59.51 0 1.02-.2 1.41-.59l7.78-7.78 2.81-2.81c.8-.78.8-2.07 0-2.86zM5.41 20L4 18.59l7.72-7.72 1.47 1.35L5.41 20z\"/>\n",
              "  </svg>\n",
              "      </button>\n",
              "      \n",
              "  <style>\n",
              "    .colab-df-container {\n",
              "      display:flex;\n",
              "      flex-wrap:wrap;\n",
              "      gap: 12px;\n",
              "    }\n",
              "\n",
              "    .colab-df-convert {\n",
              "      background-color: #E8F0FE;\n",
              "      border: none;\n",
              "      border-radius: 50%;\n",
              "      cursor: pointer;\n",
              "      display: none;\n",
              "      fill: #1967D2;\n",
              "      height: 32px;\n",
              "      padding: 0 0 0 0;\n",
              "      width: 32px;\n",
              "    }\n",
              "\n",
              "    .colab-df-convert:hover {\n",
              "      background-color: #E2EBFA;\n",
              "      box-shadow: 0px 1px 2px rgba(60, 64, 67, 0.3), 0px 1px 3px 1px rgba(60, 64, 67, 0.15);\n",
              "      fill: #174EA6;\n",
              "    }\n",
              "\n",
              "    [theme=dark] .colab-df-convert {\n",
              "      background-color: #3B4455;\n",
              "      fill: #D2E3FC;\n",
              "    }\n",
              "\n",
              "    [theme=dark] .colab-df-convert:hover {\n",
              "      background-color: #434B5C;\n",
              "      box-shadow: 0px 1px 3px 1px rgba(0, 0, 0, 0.15);\n",
              "      filter: drop-shadow(0px 1px 2px rgba(0, 0, 0, 0.3));\n",
              "      fill: #FFFFFF;\n",
              "    }\n",
              "  </style>\n",
              "\n",
              "      <script>\n",
              "        const buttonEl =\n",
              "          document.querySelector('#df-46b27b81-7471-412b-94af-3eb917126db5 button.colab-df-convert');\n",
              "        buttonEl.style.display =\n",
              "          google.colab.kernel.accessAllowed ? 'block' : 'none';\n",
              "\n",
              "        async function convertToInteractive(key) {\n",
              "          const element = document.querySelector('#df-46b27b81-7471-412b-94af-3eb917126db5');\n",
              "          const dataTable =\n",
              "            await google.colab.kernel.invokeFunction('convertToInteractive',\n",
              "                                                     [key], {});\n",
              "          if (!dataTable) return;\n",
              "\n",
              "          const docLinkHtml = 'Like what you see? Visit the ' +\n",
              "            '<a target=\"_blank\" href=https://colab.research.google.com/notebooks/data_table.ipynb>data table notebook</a>'\n",
              "            + ' to learn more about interactive tables.';\n",
              "          element.innerHTML = '';\n",
              "          dataTable['output_type'] = 'display_data';\n",
              "          await google.colab.output.renderOutput(dataTable, element);\n",
              "          const docLink = document.createElement('div');\n",
              "          docLink.innerHTML = docLinkHtml;\n",
              "          element.appendChild(docLink);\n",
              "        }\n",
              "      </script>\n",
              "    </div>\n",
              "  </div>\n",
              "  "
            ]
          },
          "metadata": {},
          "execution_count": 5
        }
      ]
    },
    {
      "cell_type": "code",
      "source": [
        "#The data is being split into train and test data \n",
        "from sklearn.model_selection import train_test_split\n",
        "X_train, X_test, y_train, y_test = train_test_split(X,y, test_size=0.2, random_state=0)"
      ],
      "metadata": {
        "id": "gQsSu5QP-3Go"
      },
      "execution_count": null,
      "outputs": []
    },
    {
      "cell_type": "code",
      "source": [
        "#LINEAR REGRESION\n",
        "from sklearn.linear_model import LinearRegression\n",
        "lin_reg = LinearRegression()\n",
        "lin_reg.fit(X_train,y_train)\n",
        "lin_reg.predict(X_test)\n",
        "#y_pred=y_pred.reshape(-1,1)\n",
        "print(\"Training Score: \",lin_reg.score(X_train,y_train))\n",
        "print(\"Testing Score: \",lin_reg.score(X_test, y_test))\n"
      ],
      "metadata": {
        "id": "EEos-wVI_2eD",
        "colab": {
          "base_uri": "https://localhost:8080/"
        },
        "outputId": "ede57a82-5d5c-4524-ca08-2c9010b5e1db"
      },
      "execution_count": null,
      "outputs": [
        {
          "output_type": "stream",
          "name": "stdout",
          "text": [
            "Training Score:  0.9499572530324031\n",
            "Testing Score:  0.9393955917820571\n"
          ]
        }
      ]
    },
    {
      "cell_type": "code",
      "source": [
        "#RMSE AND CROSS VAL SCORE FOR THE LINEAR REGRESSION MODEL\n",
        "from sklearn.metrics import mean_squared_error\n",
        "y_pred_lin = lin_reg.predict(X_test)\n",
        "lin_mse = mean_squared_error(y_test, y_pred_lin)\n",
        "lin_rmse = np.sqrt(lin_mse)\n",
        "print(lin_rmse)\n",
        "from sklearn.model_selection import cross_val_score\n",
        "scores_lin = cross_val_score(lin_reg, X_test, y_test,scoring=\"neg_mean_squared_error\", cv=10)\n",
        "lin_rmse_scores = np.sqrt(-scores_lin)\n",
        "def display_scores(scores_lin):\n",
        "  print(\"Scores:\", scores_lin)\n",
        "  print(\"Mean:\", scores_lin.mean())\n",
        "  print(\"Standard deviation:\", scores_lin.std())\n",
        "display_scores(lin_rmse_scores)"
      ],
      "metadata": {
        "colab": {
          "base_uri": "https://localhost:8080/"
        },
        "id": "1hjpr1jH-Pnf",
        "outputId": "81b9954a-810b-4863-dcbc-b951fa694c6c"
      },
      "execution_count": null,
      "outputs": [
        {
          "output_type": "stream",
          "name": "stdout",
          "text": [
            "8803.77579046934\n",
            "Scores: [ 7571.76567448  1511.48494076  5652.27017806  5315.20072441\n",
            " 12935.62577368  4188.84822832  9578.94908815  7987.6029029\n",
            "  1078.08446274 16091.92217316]\n",
            "Mean: 7191.175414665971\n",
            "Standard deviation: 4508.1354832906145\n"
          ]
        }
      ]
    },
    {
      "cell_type": "code",
      "source": [
        "#SVM REGRESSION\n",
        "from sklearn.svm import LinearSVR\n",
        "svm_reg = LinearSVR(epsilon=1.5)\n",
        "svm_reg.fit(X_train, y_train)\n",
        "y_pred1 = svm_reg.predict(X_test)\n",
        "print(\"Training Score: \",svm_reg.score(X_train,y_train))\n",
        "print(\"Testing Score: \",svm_reg.score(X_test, y_test))"
      ],
      "metadata": {
        "colab": {
          "base_uri": "https://localhost:8080/"
        },
        "id": "RVyElRZU51At",
        "outputId": "276a8391-509b-4650-a650-1908f36a887b"
      },
      "execution_count": null,
      "outputs": [
        {
          "output_type": "stream",
          "name": "stdout",
          "text": [
            "Training Score:  0.882068908244534\n",
            "Testing Score:  0.7431206933263099\n"
          ]
        },
        {
          "output_type": "stream",
          "name": "stderr",
          "text": [
            "/usr/local/lib/python3.7/dist-packages/sklearn/svm/_base.py:1208: ConvergenceWarning: Liblinear failed to converge, increase the number of iterations.\n",
            "  ConvergenceWarning,\n"
          ]
        }
      ]
    },
    {
      "cell_type": "code",
      "source": [
        "#RMSE AND CROSS VAL SCORE FOR THE SVM REGRESSION MODEL\n",
        "from sklearn.metrics import mean_squared_error\n",
        "y_pred_svr = svm_reg.predict(X_test)\n",
        "svr_mse = mean_squared_error(y_test, y_pred_svr)\n",
        "svr_rmse = np.sqrt(svr_mse)\n",
        "print(svr_rmse)\n",
        "from sklearn.model_selection import cross_val_score\n",
        "scores_svr = cross_val_score(svm_reg, X_test, y_test,scoring=\"neg_mean_squared_error\", cv=10)\n",
        "svr_rmse_scores = np.sqrt(-scores_svr)\n",
        "def display_scores(scores_svr):\n",
        "  print(\"Scores:\", scores_svr)\n",
        "  print(\"Mean:\", scores_svr.mean())\n",
        "  print(\"Standard deviation:\", scores_svr.std())\n",
        "display_scores(svr_rmse_scores)"
      ],
      "metadata": {
        "colab": {
          "base_uri": "https://localhost:8080/"
        },
        "id": "BmUCmml7_PAF",
        "outputId": "61a0a771-3c83-4a22-e4ae-a6df04f32984"
      },
      "execution_count": null,
      "outputs": [
        {
          "output_type": "stream",
          "name": "stdout",
          "text": [
            "18125.142364170344\n",
            "Scores: [12423.2271989  31157.17238073 44869.44112841 27492.31500512\n",
            " 33933.03240068 43637.39333295 11325.40636923  1481.92714891\n",
            " 48525.34776388 18446.49060383]\n",
            "Mean: 27329.175333264982\n",
            "Standard deviation: 15187.093092023679\n"
          ]
        },
        {
          "output_type": "stream",
          "name": "stderr",
          "text": [
            "/usr/local/lib/python3.7/dist-packages/sklearn/svm/_base.py:1208: ConvergenceWarning: Liblinear failed to converge, increase the number of iterations.\n",
            "  ConvergenceWarning,\n",
            "/usr/local/lib/python3.7/dist-packages/sklearn/svm/_base.py:1208: ConvergenceWarning: Liblinear failed to converge, increase the number of iterations.\n",
            "  ConvergenceWarning,\n",
            "/usr/local/lib/python3.7/dist-packages/sklearn/svm/_base.py:1208: ConvergenceWarning: Liblinear failed to converge, increase the number of iterations.\n",
            "  ConvergenceWarning,\n",
            "/usr/local/lib/python3.7/dist-packages/sklearn/svm/_base.py:1208: ConvergenceWarning: Liblinear failed to converge, increase the number of iterations.\n",
            "  ConvergenceWarning,\n",
            "/usr/local/lib/python3.7/dist-packages/sklearn/svm/_base.py:1208: ConvergenceWarning: Liblinear failed to converge, increase the number of iterations.\n",
            "  ConvergenceWarning,\n",
            "/usr/local/lib/python3.7/dist-packages/sklearn/svm/_base.py:1208: ConvergenceWarning: Liblinear failed to converge, increase the number of iterations.\n",
            "  ConvergenceWarning,\n",
            "/usr/local/lib/python3.7/dist-packages/sklearn/svm/_base.py:1208: ConvergenceWarning: Liblinear failed to converge, increase the number of iterations.\n",
            "  ConvergenceWarning,\n",
            "/usr/local/lib/python3.7/dist-packages/sklearn/svm/_base.py:1208: ConvergenceWarning: Liblinear failed to converge, increase the number of iterations.\n",
            "  ConvergenceWarning,\n",
            "/usr/local/lib/python3.7/dist-packages/sklearn/svm/_base.py:1208: ConvergenceWarning: Liblinear failed to converge, increase the number of iterations.\n",
            "  ConvergenceWarning,\n",
            "/usr/local/lib/python3.7/dist-packages/sklearn/svm/_base.py:1208: ConvergenceWarning: Liblinear failed to converge, increase the number of iterations.\n",
            "  ConvergenceWarning,\n"
          ]
        }
      ]
    },
    {
      "cell_type": "code",
      "source": [
        "#DECISION TREE REGGRESOR\n",
        "from sklearn.tree import DecisionTreeRegressor\n",
        "tree_reg = DecisionTreeRegressor(max_depth=2)\n",
        "tree_reg.fit(X_train, y_train)\n",
        "tree_reg.predict(X_test)\n",
        "print(\"Training Score: \",tree_reg.score(X_train,y_train))\n",
        "print(\"Testing Score: \",tree_reg.score(X_test, y_test))"
      ],
      "metadata": {
        "id": "Xwbe9VWEHkWF",
        "colab": {
          "base_uri": "https://localhost:8080/"
        },
        "outputId": "3cebf340-23e3-4973-dc05-fab555428434"
      },
      "execution_count": null,
      "outputs": [
        {
          "output_type": "stream",
          "name": "stdout",
          "text": [
            "Training Score:  0.89089652193947\n",
            "Testing Score:  0.7718995412718883\n"
          ]
        }
      ]
    },
    {
      "cell_type": "code",
      "source": [
        "#RMSE AND CROSS VAL SCORE FOR THE DECISION TREE REGRESSION MODEL\n",
        "from sklearn.metrics import mean_squared_error\n",
        "y_pred_tree = tree_reg.predict(X_test)\n",
        "tree_mse = mean_squared_error(y_test, y_pred_tree)\n",
        "tree_rmse = np.sqrt(tree_mse)\n",
        "print(\"RMSE: \",tree_rmse)\n",
        "from sklearn.model_selection import cross_val_score\n",
        "scores_tree = cross_val_score(tree_reg, X_test, y_test,scoring=\"neg_mean_squared_error\", cv=10)\n",
        "tree_rmse_scores = np.sqrt(-scores_tree)\n",
        "def display_scores(scores_tree):\n",
        "  print(\"Scores:\", scores_tree)\n",
        "  print(\"Mean:\", scores_tree.mean())\n",
        "  print(\"Standard deviation:\", scores_tree.std())\n",
        "display_scores(tree_rmse_scores)"
      ],
      "metadata": {
        "colab": {
          "base_uri": "https://localhost:8080/"
        },
        "id": "nrom9kdnTvmb",
        "outputId": "1c24217d-72af-4846-b632-16d709033f5b"
      },
      "execution_count": null,
      "outputs": [
        {
          "output_type": "stream",
          "name": "stdout",
          "text": [
            "RMSE:  17079.688493281377\n",
            "Scores: [  998.99333333 11895.545      44928.44        3430.23\n",
            " 24862.45        1302.24666667  3430.23        8730.75333333\n",
            "  8427.5        24862.45      ]\n",
            "Mean: 13286.883833333337\n",
            "Standard deviation: 13432.84903311609\n"
          ]
        }
      ]
    },
    {
      "cell_type": "code",
      "source": [
        "#RANDOM FOREST REGRESSOR\n",
        "from sklearn.ensemble import RandomForestRegressor\n",
        "forest_reg = RandomForestRegressor()\n",
        "forest_reg.fit(X_train, y_train)\n",
        "forest_reg.predict(X_test)\n",
        "print(\"Training Score: \",forest_reg.score(X_train,y_train))\n",
        "print(\"Testing Score: \",forest_reg.score(X_test, y_test))\n"
      ],
      "metadata": {
        "colab": {
          "base_uri": "https://localhost:8080/"
        },
        "id": "Egc1tUutVNmk",
        "outputId": "7c0a57e6-6e76-421e-fd19-3eadceb6f3f2"
      },
      "execution_count": null,
      "outputs": [
        {
          "output_type": "stream",
          "name": "stdout",
          "text": [
            "Training Score:  0.989860463708382\n",
            "Testing Score:  0.9604386214392272\n"
          ]
        }
      ]
    },
    {
      "cell_type": "code",
      "source": [
        "#RMSE AND CROSS VAL SCORE FOR THE RANODOM FOREST REGRESSOR REGRESSION MODEL\n",
        "from sklearn.metrics import mean_squared_error\n",
        "y_pred_forest = forest_reg.predict(X_test)\n",
        "forest_mse = mean_squared_error(y_test, y_pred_forest)\n",
        "forest_rmse = np.sqrt(forest_mse)\n",
        "print(\"RMSE: \",forest_rmse)\n",
        "from sklearn.model_selection import cross_val_score\n",
        "scores_forest = cross_val_score(forest_reg, X_test, y_test,scoring=\"neg_mean_squared_error\", cv=10)\n",
        "forest_rmse_scores = np.sqrt(-scores_forest)\n",
        "def display_scores(scores_forest):\n",
        "  print(\"Scores:\", scores_forest)\n",
        "  print(\"Mean:\", scores_forest.mean())\n",
        "  print(\"Standard deviation:\", scores_forest.std())\n",
        "display_scores(forest_rmse_scores)"
      ],
      "metadata": {
        "colab": {
          "base_uri": "https://localhost:8080/"
        },
        "id": "DR7_pQZnYSbf",
        "outputId": "a1f46aee-8a1d-414c-abf4-e50161749ebe"
      },
      "execution_count": null,
      "outputs": [
        {
          "output_type": "stream",
          "name": "stdout",
          "text": [
            "RMSE:  7112.996165399267\n",
            "Scores: [ 4776.7508 15337.0538 10367.7443 15807.0816 37567.1979 13310.9556\n",
            " 12197.2163  6425.8502  3124.6904  5334.7648]\n",
            "Mean: 12424.93057000003\n",
            "Standard deviation: 9425.340631655505\n"
          ]
        }
      ]
    },
    {
      "cell_type": "markdown",
      "source": [
        "The prediction of profit across 50 startups is found using four different regression model [Linear regression, SVR, Decision Tree regressor and Random forest regressor] The best model is the Linear regressor as the score of the model is around 93% which is the best compared to the rest "
      ],
      "metadata": {
        "id": "9YOnnwHLI6lJ"
      }
    }
  ]
}